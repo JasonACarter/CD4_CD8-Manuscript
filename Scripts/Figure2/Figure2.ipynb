{
 "cells": [
  {
   "cell_type": "code",
   "execution_count": 1,
   "metadata": {},
   "outputs": [
    {
     "ename": "ModuleNotFoundError",
     "evalue": "No module named 'qvalue'",
     "output_type": "error",
     "traceback": [
      "\u001b[0;31m---------------------------------------------------------------------------\u001b[0m",
      "\u001b[0;31mModuleNotFoundError\u001b[0m                       Traceback (most recent call last)",
      "\u001b[0;32m<ipython-input-1-b7c6459d8bef>\u001b[0m in \u001b[0;36m<module>\u001b[0;34m\u001b[0m\n\u001b[1;32m      6\u001b[0m \u001b[0;32mfrom\u001b[0m \u001b[0mscipy\u001b[0m \u001b[0;32mimport\u001b[0m \u001b[0mstats\u001b[0m\u001b[0;34m\u001b[0m\u001b[0;34m\u001b[0m\u001b[0m\n\u001b[1;32m      7\u001b[0m \u001b[0;32mimport\u001b[0m \u001b[0mstatsmodels\u001b[0m\u001b[0;34m.\u001b[0m\u001b[0mapi\u001b[0m \u001b[0;32mas\u001b[0m \u001b[0msm\u001b[0m\u001b[0;34m\u001b[0m\u001b[0;34m\u001b[0m\u001b[0m\n\u001b[0;32m----> 8\u001b[0;31m \u001b[0;32mfrom\u001b[0m \u001b[0mqvalue\u001b[0m \u001b[0;32mimport\u001b[0m \u001b[0mestimate\u001b[0m\u001b[0;34m\u001b[0m\u001b[0;34m\u001b[0m\u001b[0m\n\u001b[0m",
      "\u001b[0;31mModuleNotFoundError\u001b[0m: No module named 'qvalue'"
     ]
    }
   ],
   "source": [
    "import pandas as pd\n",
    "import numpy as np\n",
    "from matplotlib import pyplot as plt\n",
    "import seaborn as sns\n",
    "import os\n",
    "from scipy import stats\n",
    "import statsmodels.api as sm\n",
    "from qvalue import estimate"
   ]
  },
  {
   "cell_type": "code",
   "execution_count": null,
   "metadata": {},
   "outputs": [],
   "source": [
    "fileroot='../../Data/'\n",
    "figureroot=fileroot+'Figures/'"
   ]
  },
  {
   "cell_type": "code",
   "execution_count": null,
   "metadata": {},
   "outputs": [],
   "source": [
    "cd4=pd.read_pickle(fileroot+'CD4_sequences.pkl')\n",
    "cd8=pd.read_pickle(fileroot+'CD8_sequences.pkl')"
   ]
  },
  {
   "cell_type": "code",
   "execution_count": null,
   "metadata": {},
   "outputs": [],
   "source": [
    "def single_chain_OR(cd4,cd8,feature):\n",
    "    features4,counts4=np.unique(cd4[feature],return_counts=1)\n",
    "    features8,counts8=np.unique(cd8[feature],return_counts=1)\n",
    "    all_features=np.unique(np.hstack((features4,features8)))\n",
    "    odds=np.zeros(len(all_features))\n",
    "    pvalue=np.zeros(len(all_features))\n",
    "    upper_ci=np.zeros(len(all_features))\n",
    "    lower_ci=np.zeros(len(all_features))\n",
    "    keep=[]\n",
    "    for i,x in enumerate(all_features):\n",
    "        if x in features4:\n",
    "            a=counts4[np.where(features4==x)[0][0]]\n",
    "        else:\n",
    "            a=0\n",
    "        if x in features8:\n",
    "            b=counts8[np.where(features8==x)[0][0]]\n",
    "        else:\n",
    "            b=0\n",
    "        c=np.sum(counts4)-a\n",
    "        d=np.sum(counts8)-b\n",
    "        if a+b>50:\n",
    "            odds[i],pvalue[i]=stats.fisher_exact([[a,b],[c,d]])  \n",
    "            lower_ci[i],upper_ci[i]=sm.stats.Table2x2(np.asarray([[a,b],[c,d]])).oddsratio_confint(alpha=0.05, method='normal')\n",
    "            keep.append(i)\n",
    "    all_features,odds,pvalue,lower_ci,upper_ci=all_features[keep],odds[keep],pvalue[keep],lower_ci[keep],upper_ci[keep]\n",
    "    pvalue=pvalue*len(all_features)\n",
    "    order=np.argsort(odds)\n",
    "    return all_features[order],odds[order],pvalue[order],lower_ci[order],upper_ci[order]"
   ]
  },
  {
   "cell_type": "code",
   "execution_count": null,
   "metadata": {},
   "outputs": [],
   "source": [
    "def single_chain_plot(features,OR,p,lower_ci,upper_ci,figure):\n",
    "    a4_dims = (8,4)\n",
    "    fig, ax = plt.subplots(figsize=a4_dims)\n",
    "    plt.errorbar(features,OR,[OR-lower_ci,upper_ci-OR],fmt='o',markersize=1,ecolor='black',color='black',zorder=2)\n",
    "    plt.scatter(features,OR,color='black',s=50,marker='o')\n",
    "    plt.scatter(features[p<.05],OR[p<.05],color='red',s=50,marker='o',zorder=3)\n",
    "    plt.plot([-1,len(features)+1],[1,1],color='gray',linestyle='--',zorder=1)\n",
    "    plt.xticks(rotation=90)\n",
    "    plt.xlim([-1,len(features)])\n",
    "    plt.ylim([0.25,2.75])\n",
    "    plt.xlabel('')\n",
    "    plt.ylabel('')\n",
    "    plt.tight_layout()\n",
    "    plt.show()\n",
    "    plt.close()"
   ]
  },
  {
   "cell_type": "code",
   "execution_count": null,
   "metadata": {},
   "outputs": [],
   "source": [
    "for (feature,figure) in zip (['Va','Vb','Ja','Jb'],['Figure2_A','Figure2_B','SFig1_A','SFig1B']):\n",
    "    features,OR,p,lower_ci,upper_ci=single_chain_OR(cd4,cd8,feature)\n",
    "    single_chain_plot(features,OR,p,lower_ci,upper_ci,figure)"
   ]
  },
  {
   "cell_type": "code",
   "execution_count": null,
   "metadata": {},
   "outputs": [],
   "source": [
    "def paired_chain_OR(cd4,cd8,feature1,feature2):\n",
    "    features1=np.unique(np.hstack((np.unique(cd4[feature1]),np.unique(cd8[feature1]))))\n",
    "    features2=np.unique(np.hstack((np.unique(cd4[feature2]),np.unique(cd8[feature2]))))\n",
    "\n",
    "    fours=pd.DataFrame(np.zeros((len(features1),len(features2))),columns=features2,index=features1)\n",
    "    eights=pd.DataFrame(np.zeros((len(features1),len(features2))),columns=features2,index=features1)\n",
    "\n",
    "    for f1,f2 in zip(cd4[feature1],cd4[feature2]):\n",
    "        fours[f2].loc[f1]+=1\n",
    "    for f1,f2 in zip(cd8[feature1],cd8[feature2]):\n",
    "        eights[f2].loc[f1]+=1\n",
    "\n",
    "    odds=pd.DataFrame(np.zeros((len(features1),len(features2))),columns=features2,index=features1)\n",
    "    pvalue=pd.DataFrame(np.zeros((len(features1),len(features2))),columns=features2,index=features1)\n",
    "    for f1 in features1:\n",
    "        for f2 in features2:\n",
    "            a=fours[f2].loc[f1]\n",
    "            b=eights[f2].loc[f1]\n",
    "            c=fours.sum().sum()-a\n",
    "            d=eights.sum().sum()-b\n",
    "            if a+b>50:\n",
    "                odds[f2].loc[f1],pvalue[f2].loc[f1]=stats.fisher_exact([[a,b],[c,d]])  \n",
    "    pvalue=pd.DataFrame(estimate(np.array(pvalue)),columns=odds.columns,index=odds.index)\n",
    "    pvalue[(pvalue>.05) | (pvalue==0)]=0\n",
    "    odds[pvalue==0]=0\n",
    "    odds=odds[odds.columns[np.sum(odds,axis=0)!=0]]\n",
    "    odds=odds[np.sum(odds,axis=1)!=0]\n",
    "    pvalue=pvalue[odds.columns]\n",
    "    pvalue=pvalue.loc[odds.index]\n",
    "    odds[odds==0]=1\n",
    "    odds[~np.isfinite(odds)]=1\n",
    "    return odds"
   ]
  },
  {
   "cell_type": "code",
   "execution_count": null,
   "metadata": {},
   "outputs": [],
   "source": [
    "def paired_chain_plot(odds,figure):\n",
    "    g=sns.clustermap(np.log10(odds),cmap='coolwarm',robust=0,center=0,method='single',vmin=-.9,vmax=.9)\n",
    "    plt.setp(g.ax_heatmap.get_yticklabels(), rotation=0)\n",
    "    plt.xlabel('')\n",
    "    plt.ylabel('')\n",
    "    plt.show()\n",
    "    plt.close()"
   ]
  },
  {
   "cell_type": "code",
   "execution_count": null,
   "metadata": {},
   "outputs": [],
   "source": [
    "for (feature1,feature2,figure) in zip(['Va','Ja'],['Vb','Jb'],['Figure2_C','SFig1_C']):\n",
    "    odds=paired_chain_OR(cd4,cd8,feature1,feature2)\n",
    "    paired_chain_plot(odds,figure)"
   ]
  },
  {
   "cell_type": "code",
   "execution_count": null,
   "metadata": {},
   "outputs": [],
   "source": [
    "for feature1,feature2,figure1,figure2 in zip(['Va','Ja'],['Vb','Jb'],['Fig2_D','SFig2_D'],['Fig2_E','SFig2_E']):\n",
    "    paired_odds=np.array(paired_chain_OR(cd4,cd8,feature1,feature2)).flatten()\n",
    "    paired_odds=paired_odds[paired_odds!=1]\n",
    "    df=pd.DataFrame(np.vstack((paired_odds,['Paired']*len(paired_odds))).T,columns=['OR','Dataset'])\n",
    "    features,odds1,p,lower_ci,upper_ci=single_chain_OR(cd4,cd8,feature1)\n",
    "    odds1=odds1[p<.05]\n",
    "    features,odds2,p,lower_ci,upper_ci=single_chain_OR(cd4,cd8,feature2)\n",
    "    odds2=odds2[p<.05]\n",
    "    df=df.append(pd.DataFrame(np.vstack((np.hstack((odds1,odds2)),['Single']*len(np.hstack((odds1,odds2))))).T,columns=['OR','Dataset']))\n",
    "    df.OR=np.log10(df.OR.astype(float))\n",
    "    df['x']=[0]*df.shape[0]\n",
    "\n",
    "    print(stats.mannwhitneyu(df[(df.OR>0) & (df.Dataset=='Paired')].OR,df[(df.OR>0) & (df.Dataset=='Single')].OR)[1])\n",
    "    sns.boxplot(x='x',y='OR',hue='Dataset',data=df[df.OR>0],hue_order=['Single','Paired'],palette=['Darkgray','Gray'])\n",
    "    if 'D' in figure1:\n",
    "        plt.ylim([0,1.25])\n",
    "    else:\n",
    "        plt.ylim([0,.75])\n",
    "    plt.legend('')\n",
    "    plt.xlabel('')\n",
    "    plt.ylabel('')\n",
    "    plt.xticks(fontsize=0)\n",
    "    plt.yticks(fontsize=15)\n",
    "    plt.tight_layout()\n",
    "    plt.show()\n",
    "    plt.close()\n",
    "\n",
    "    print(stats.mannwhitneyu(df[(df.OR<0) & (df.Dataset=='Paired')].OR,df[(df.OR<0) & (df.Dataset=='Single')].OR)[1])\n",
    "    sns.boxplot(x='x',y='OR',hue='Dataset',data=df[df.OR<0],hue_order=['Single','Paired'],palette=['Darkgray','Gray'])\n",
    "    if 'D' in figure1:\n",
    "        plt.ylim([-1,.15])\n",
    "    else:\n",
    "        plt.ylim([-.5,.15])\n",
    "    plt.legend('')\n",
    "    plt.xlabel('')\n",
    "    plt.ylabel('')\n",
    "    plt.xticks(fontsize=0)\n",
    "    plt.yticks(fontsize=15)\n",
    "    plt.tight_layout()\n",
    "    plt.show()\n",
    "    plt.close()"
   ]
  },
  {
   "cell_type": "code",
   "execution_count": null,
   "metadata": {},
   "outputs": [],
   "source": []
  }
 ],
 "metadata": {
  "kernelspec": {
   "display_name": "Python 3",
   "language": "python",
   "name": "python3"
  },
  "language_info": {
   "codemirror_mode": {
    "name": "ipython",
    "version": 3
   },
   "file_extension": ".py",
   "mimetype": "text/x-python",
   "name": "python",
   "nbconvert_exporter": "python",
   "pygments_lexer": "ipython3",
   "version": "3.6.8"
  }
 },
 "nbformat": 4,
 "nbformat_minor": 2
}
