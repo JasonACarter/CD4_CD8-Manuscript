{
 "cells": [
  {
   "cell_type": "code",
   "execution_count": 1,
   "metadata": {},
   "outputs": [],
   "source": [
    "import pandas as pd\n",
    "import numpy as np\n",
    "from matplotlib import pyplot as plt\n",
    "import seaborn as sns\n",
    "import os\n",
    "from scipy import stats\n",
    "from sklearn.feature_selection import VarianceThreshold,f_classif\n",
    "from sklearn.model_selection import StratifiedKFold\n",
    "from sklearn.metrics import roc_auc_score, accuracy_score\n",
    "from xgboost import XGBClassifier\n",
    "from sklearn.preprocessing import StandardScaler\n",
    "from sklearn import metrics"
   ]
  },
  {
   "cell_type": "code",
   "execution_count": 2,
   "metadata": {},
   "outputs": [],
   "source": [
    "fileroot='../../Data/'\n",
    "figureroot=fileroot+'Figures/'"
   ]
  },
  {
   "cell_type": "code",
   "execution_count": 3,
   "metadata": {},
   "outputs": [],
   "source": [
    "cd4=pd.read_pickle(fileroot+'CD4_sequences.pkl')\n",
    "cd8=pd.read_pickle(fileroot+'CD8_sequences.pkl')"
   ]
  },
  {
   "cell_type": "code",
   "execution_count": 4,
   "metadata": {},
   "outputs": [],
   "source": [
    "def MI_calculation(counts):\n",
    "    MI=[]\n",
    "    for col in counts.columns:\n",
    "        for row in counts.index:\n",
    "            joint=counts[col].loc[row]/np.sum(np.sum(counts))\n",
    "            marginal_cell=counts[col].sum()/np.sum(np.sum(counts))\n",
    "            marginal_feature=counts.loc[row].sum()/np.sum(np.sum(counts))\n",
    "            if joint*marginal_cell*marginal_feature>0:\n",
    "                MI.append(joint*np.log2((joint)/(marginal_cell*marginal_feature)))\n",
    "    return np.sum(MI)"
   ]
  },
  {
   "cell_type": "code",
   "execution_count": 5,
   "metadata": {},
   "outputs": [],
   "source": [
    "def count_matrix(four,eight):\n",
    "    feature4,counts4=np.unique(four,return_counts=1)\n",
    "    feature8,counts8=np.unique(eight,return_counts=1)\n",
    "    features_all=np.unique(np.hstack((feature4,feature8)))\n",
    "    counts=pd.DataFrame(np.zeros((len(features_all),2)),columns=['Four','Eight'],index=features_all)\n",
    "    for x in features_all:\n",
    "        if x in feature4:\n",
    "            counts['Four'].loc[x]=counts4[np.where(x==feature4)[0][0]]\n",
    "        if x in feature8:\n",
    "            counts['Eight'].loc[x]=counts8[np.where(x==feature8)[0][0]]\n",
    "    return counts"
   ]
  },
  {
   "cell_type": "code",
   "execution_count": 6,
   "metadata": {},
   "outputs": [],
   "source": [
    "def finite_sampling_correction(four,eight):\n",
    "    data=np.zeros((int(1e5),2))\n",
    "    it=0\n",
    "    for sample_size in np.arange(.5,1,.05):\n",
    "        for iterations in range(10):\n",
    "            data[it,0]=MI_calculation(count_matrix(four.sample(frac=.8),eight.sample(frac=.8)))\n",
    "            data[it,1]=1/sample_size\n",
    "            it+=1\n",
    "    data=pd.DataFrame(data[:it,:],columns=['MI','SampleSize'])\n",
    "    return stats.linregress(data.SampleSize,data.MI)[1]      "
   ]
  },
  {
   "cell_type": "code",
   "execution_count": 7,
   "metadata": {},
   "outputs": [],
   "source": [
    "def get_cdr3_charge(cdr3):\n",
    "    return cdr3.count('K')+cdr3.count('R')-cdr3.count('D')-cdr3.count('E')"
   ]
  },
  {
   "cell_type": "code",
   "execution_count": 8,
   "metadata": {},
   "outputs": [],
   "source": [
    "cd4['Lengtha']=np.array(list(map(len,cd4.CDR3a)))\n",
    "cd8['Lengtha']=np.array(list(map(len,cd8.CDR3a)))\n",
    "cd4['Lengthb']=np.array(list(map(len,cd4.CDR3b)))\n",
    "cd8['Lengthb']=np.array(list(map(len,cd8.CDR3b)))\n",
    "cd4['Chargea']=np.array(list(map(get_cdr3_charge,cd4.CDR3a)))\n",
    "cd8['Chargea']=np.array(list(map(get_cdr3_charge,cd8.CDR3a)))\n",
    "cd4['Chargeb']=np.array(list(map(get_cdr3_charge,cd4.CDR3b)))\n",
    "cd8['Chargeb']=np.array(list(map(get_cdr3_charge,cd8.CDR3b)))"
   ]
  },
  {
   "cell_type": "code",
   "execution_count": 9,
   "metadata": {},
   "outputs": [
    {
     "name": "stderr",
     "output_type": "stream",
     "text": [
      "/anaconda3/lib/python3.6/site-packages/pandas/core/indexing.py:189: SettingWithCopyWarning: \n",
      "A value is trying to be set on a copy of a slice from a DataFrame\n",
      "\n",
      "See the caveats in the documentation: http://pandas.pydata.org/pandas-docs/stable/indexing.html#indexing-view-versus-copy\n",
      "  self._setitem_with_indexer(indexer, value)\n"
     ]
    }
   ],
   "source": [
    "data=pd.DataFrame(np.zeros((int(1e5),3)),columns=['Feature','MI','Chain'])\n",
    "it=0\n",
    "for feature in ['Va','Ja','Lengtha','Chargea','Vb','Jb','Lengthb','Chargeb']:\n",
    "    for i in range(5):\n",
    "        data['Feature'].iloc[it]=feature[:-1]\n",
    "        data['Chain'].iloc[it]=feature[-1]\n",
    "        data['MI'].iloc[it]=finite_sampling_correction(cd4[feature],cd8[feature])\n",
    "        it+=1\n",
    "data=data.iloc[:it]"
   ]
  },
  {
   "cell_type": "code",
   "execution_count": 10,
   "metadata": {},
   "outputs": [],
   "source": [
    "a_plus_b=np.array(data[data.Chain=='a'].MI.astype(float))+np.array(data[data.Chain=='b'].MI.astype(float))"
   ]
  },
  {
   "cell_type": "code",
   "execution_count": 11,
   "metadata": {},
   "outputs": [],
   "source": [
    "data_additive=pd.DataFrame(np.vstack((np.array(data[data.Chain=='a'].Feature),a_plus_b,['a+b']*a_plus_b.shape[0])).T,columns=data.columns)"
   ]
  },
  {
   "cell_type": "code",
   "execution_count": 12,
   "metadata": {},
   "outputs": [],
   "source": [
    "data=data.append(data_additive)"
   ]
  },
  {
   "cell_type": "code",
   "execution_count": 13,
   "metadata": {},
   "outputs": [],
   "source": [
    "data_paired=pd.DataFrame(np.zeros((int(1e5),3)),columns=['Feature','MI','Chain'])\n",
    "it=0\n",
    "for feature1,feature2 in zip(['Va','Ja','Chargea','Lengtha'],['Vb','Jb','Chargeb','Lengthb']):\n",
    "    for i in range(5):\n",
    "        data_paired['Feature'].iloc[it]=feature1[:-1]\n",
    "        data_paired['Chain'].iloc[it]='ab'\n",
    "        data_paired['MI'].iloc[it]=finite_sampling_correction(cd4[feature1].astype(str)+'_'+cd4[feature2].astype(str),cd8[feature1].astype(str)+'_'+cd8[feature2].astype(str))\n",
    "        it+=1\n",
    "data_paired=data_paired.iloc[:it]"
   ]
  },
  {
   "cell_type": "code",
   "execution_count": 14,
   "metadata": {},
   "outputs": [],
   "source": [
    "df=data.append(data_paired)"
   ]
  },
  {
   "cell_type": "code",
   "execution_count": 15,
   "metadata": {},
   "outputs": [
    {
     "data": {
      "image/png": "[encoded data removed]",
      "text/plain": [
       "<Figure size 432x288 with 1 Axes>"
      ]
     },
     "metadata": {
      "needs_background": "light"
     },
     "output_type": "display_data"
    }
   ],
   "source": [
    "sns.barplot(df.Feature,df.MI,hue=df.Chain,palette=['Dodgerblue','Salmon','Mediumblue','Firebrick'],ci=99,alpha=.75)\n",
    "plt.yscale('log')\n",
    "plt.ylim([.0005,.075])\n",
    "plt.legend(frameon=False)\n",
    "plt.xlabel('')\n",
    "plt.ylabel('')\n",
    "plt.xticks(fontsize=15)\n",
    "plt.yticks(fontsize=15)\n",
    "plt.tight_layout()\n",
    "plt.show()\n",
    "plt.close()"
   ]
  },
  {
   "cell_type": "code",
   "execution_count": 16,
   "metadata": {},
   "outputs": [],
   "source": [
    "def vector(df):\n",
    "    beta_j_order=['1-1','1-2','1-3','1-4','1-5','1-6','2-1','2-2','2-2P','2-3','2-4','2-5','2-6','2-7'];\n",
    "    beta_v_order=['1','2','3-1','4-1','5-1','6-1','7-1','4-2','6-2','3-2','4-3','6-3','7-2','8-1','5-2','6-4','7-3','8-2','5-3','9','10-1','11-1','12-1','10-2','11-2','12-2','6-5','7-4','5-4','6-6','7-5','5-5','6-7','7-6','5-6','6-8','7-7','5-7','6-9','7-8','5-8','7-9','13','10-3','11-3','12-3','12-4','12-5','14','15','16','17','18','19','20-1','21-1','22-1','23-1','24-1','25-1','26','27','28','29-1','30'];\n",
    "    alpha_v_order=['1-1','1-2','2','3','4','5','6','7','8-1','9-1','10','11','12-1','8-2','8-3','13-1','12-2','8-4','8-5','13-2','14DV4','9-2','15','12-3','8-6','16','17','18','19','20','21','22','23DV6','24','25','26-1','8-7','27','28','29DV5','30','31','32','33','26-2','34','35','36DV7','37','38-1','38-2DV8','39','40','41'];\n",
    "    alpha_j_order=list(map(str,range(1,62)))\n",
    "    aa='GALSTNKVYRIQDFPEMWHC' \n",
    "    alpha_df=np.zeros((df.shape[0],137))\n",
    "    beta_df=np.zeros((df.shape[0],101))\n",
    "    for i in range(df.shape[0]):\n",
    "        row=df.iloc[i]\n",
    "        va=np.zeros((1,len(alpha_v_order)))[0]\n",
    "        va[np.where(row.Va==np.array(alpha_v_order))[0][0]]=1\n",
    "        ja=np.zeros((1,len(alpha_j_order)))[0]\n",
    "        ja[np.where(row.Ja==np.array(alpha_j_order))[0][0]]=1\n",
    "        vb=np.zeros((1,len(beta_v_order)))[0]\n",
    "        vb[np.where(row.Vb==np.array(beta_v_order))[0][0]]=1\n",
    "        jb=np.zeros((1,len(beta_j_order)))[0]\n",
    "        jb[np.where(row.Jb==np.array(beta_j_order))[0][0]]=1\n",
    "        alpha_cdr3=np.zeros((1,20))[0]\n",
    "        beta_cdr3=np.zeros((1,20))[0]\n",
    "        for j,x in enumerate(aa):\n",
    "            alpha_cdr3[j]=np.asscalar(np.char.count(row.CDR3a,x))\n",
    "            beta_cdr3[j]=np.asscalar(np.char.count(row.CDR3b,x))\n",
    "        alpha_cdr3,beta_cdr3=alpha_cdr3/np.sum(alpha_cdr3),beta_cdr3/np.sum(beta_cdr3)\n",
    "        lengtha=len(row.CDR3a)\n",
    "        lengthb=len(row.CDR3b)\n",
    "        chargea=row.CDR3a.count('K')+row.CDR3a.count('R')-row.CDR3a.count('D')-row.CDR3a.count('E')\n",
    "        chargeb=row.CDR3b.count('K')+row.CDR3b.count('R')-row.CDR3b.count('D')-row.CDR3b.count('E')\n",
    "        alpha_df[i,:]=np.hstack((va,ja,lengtha,chargea,alpha_cdr3))\n",
    "        beta_df[i,:]=np.hstack((vb,jb,lengthb,chargeb,beta_cdr3))\n",
    "    return pd.DataFrame(alpha_df),pd.DataFrame(beta_df)"
   ]
  },
  {
   "cell_type": "code",
   "execution_count": 17,
   "metadata": {},
   "outputs": [],
   "source": [
    "df4a,df4b=vector(cd4)\n",
    "df8a,df8b=vector(cd8)"
   ]
  },
  {
   "cell_type": "code",
   "execution_count": 18,
   "metadata": {},
   "outputs": [],
   "source": [
    "idx4=np.intersect1d(np.where(~pd.DataFrame(df4a).duplicated())[0],np.where(~pd.DataFrame(df4b).duplicated())[0])\n",
    "idx8=np.intersect1d(np.where(~pd.DataFrame(df8a).duplicated())[0],np.where(~pd.DataFrame(df8b).duplicated())[0])"
   ]
  },
  {
   "cell_type": "code",
   "execution_count": 19,
   "metadata": {},
   "outputs": [],
   "source": [
    "df4a,df4b=df4a.loc[idx4],df4b.loc[idx4]\n",
    "df8a,df8b=df8a.loc[idx8],df8b.loc[idx8]"
   ]
  },
  {
   "cell_type": "code",
   "execution_count": 20,
   "metadata": {},
   "outputs": [],
   "source": [
    "dfa,dfb=np.vstack((df4a,df8a)),np.vstack((df4b,df8b))\n",
    "labels=np.hstack(([1]*df4a.shape[0],[0]*df8a.shape[0]))"
   ]
  },
  {
   "cell_type": "code",
   "execution_count": 21,
   "metadata": {},
   "outputs": [],
   "source": [
    "it=0\n",
    "skf = StratifiedKFold(n_splits=5)\n",
    "for i in range(10):\n",
    "    N=np.unique(labels,return_counts=1)[1][0]\n",
    "    idx=np.hstack((np.random.permutation(np.where(labels==1)[0])[:N],np.random.permutation(np.where(labels==0)[0])[:N]))\n",
    "    df_alpha=dfa[idx]\n",
    "    df_beta=dfb[idx]\n",
    "    df_labels=labels[idx]\n",
    "    for train_index, test_index in skf.split(df_alpha,df_labels):\n",
    "        \n",
    "        alpha_train=df_alpha[train_index]\n",
    "        beta_train=df_beta[train_index]\n",
    "        train_labels=df_labels[train_index]\n",
    "\n",
    "        alpha_test=df_alpha[test_index]\n",
    "        beta_test=df_beta[test_index]\n",
    "        test_labels=df_labels[test_index]\n",
    "\n",
    "        s=VarianceThreshold(threshold=0).fit(alpha_train)\n",
    "        alpha_train=alpha_train[:,s.get_support()]\n",
    "        alpha_test=alpha_test[:,s.get_support()]\n",
    "\n",
    "        s=VarianceThreshold(threshold=0).fit(beta_train)\n",
    "        beta_train=beta_train[:,s.get_support()]\n",
    "        beta_test=beta_test[:,s.get_support()]\n",
    "\n",
    "        scaler=StandardScaler().fit(alpha_train)\n",
    "        alpha_train=scaler.transform(alpha_train)\n",
    "        alpha_test=scaler.transform(alpha_test)\n",
    "\n",
    "        scaler=StandardScaler().fit(beta_train)\n",
    "        beta_train=scaler.transform(beta_train)\n",
    "        beta_test=scaler.transform(beta_test)\n",
    "\n",
    "        features=f_classif(alpha_train,train_labels)[0]\n",
    "        alpha_train=alpha_train[:,features>1]\n",
    "        alpha_test=alpha_test[:,features>1]\n",
    "\n",
    "        features=f_classif(beta_train,train_labels)[0]\n",
    "        beta_train=beta_train[:,features>1]\n",
    "        beta_test=beta_test[:,features>1]\n",
    "\n",
    "        pair_train=np.hstack((alpha_train,beta_train))\n",
    "        pair_test=np.hstack((alpha_test,beta_test))\n",
    "\n",
    "        clf_alpha=XGBClassifier(n_estimators=1000,eval_metric = [\"auc\",\"error\"],learning_rate = 0.01,subsample = .8,colsample_bytree = .8, min_child_weight =5,max_depth=10)\n",
    "        clf_alpha.fit(alpha_train,train_labels) \n",
    "\n",
    "        clf_beta=XGBClassifier(n_estimators=1000,eval_metric = [\"auc\",\"error\"],learning_rate = 0.01,subsample = .8,colsample_bytree = .8, min_child_weight =5,max_depth=10)\n",
    "        clf_beta.fit(beta_train,train_labels)\n",
    "\n",
    "        clf_pair=XGBClassifier(n_estimators=1000,eval_metric = [\"auc\",\"error\"],learning_rate = 0.01,subsample = .8,colsample_bytree = .8, min_child_weight =5,max_depth=10)\n",
    "        clf_pair.fit(pair_train,train_labels) \n",
    "\n",
    "        alpha_auc=roc_auc_score(test_labels,clf_alpha.predict_proba(alpha_test)[:,1])    \n",
    "        beta_auc=roc_auc_score(test_labels,clf_beta.predict_proba(beta_test)[:,1])  \n",
    "        pair_auc=roc_auc_score(test_labels,clf_pair.predict_proba(pair_test)[:,1])\n",
    "\n",
    "        alpha_score=accuracy_score(test_labels,clf_alpha.predict(alpha_test))    \n",
    "        beta_score=accuracy_score(test_labels,clf_beta.predict(beta_test))  \n",
    "        pair_score=accuracy_score(test_labels,clf_pair.predict(pair_test))\n",
    "\n",
    "        alpha_plus_beta=(clf_alpha.predict_proba(alpha_test)[:,1]+clf_beta.predict_proba(beta_test)[:,1])/2\n",
    "        additive_auc=roc_auc_score(test_labels,alpha_plus_beta)\n",
    "        additive_score=accuracy_score(test_labels,[1 if x >=0.5 else 0 for x in alpha_plus_beta])\n",
    "\n",
    "        afpr, atpr, athresholds = metrics.roc_curve(test_labels,clf_alpha.predict_proba(alpha_test)[:,1])\n",
    "        bfpr, btpr, bthresholds = metrics.roc_curve(test_labels,clf_beta.predict_proba(beta_test)[:,1])\n",
    "        pfpr, ptpr, pthresholds = metrics.roc_curve(test_labels,clf_pair.predict_proba(pair_test)[:,1])\n",
    "        addfpr,addtpr,addthresholds= metrics.roc_curve(test_labels,alpha_plus_beta)\n",
    "\n",
    "        a=np.vstack((afpr,atpr,['Alpha']*len(afpr))).T\n",
    "        b=np.vstack((bfpr,btpr,['Beta']*len(bfpr))).T\n",
    "        add=np.vstack((addfpr,addtpr,['Add']*len(addfpr))).T\n",
    "        p=np.vstack((pfpr,ptpr,['Pair']*len(pfpr))).T\n",
    "        df_roc=np.vstack((a,b,add,p))\n",
    "\n",
    "        a=np.hstack((alpha_auc,alpha_score,['Alpha']))\n",
    "        b=np.hstack((beta_auc,beta_score,['Beta']))\n",
    "        p=np.hstack((pair_auc,pair_score,['Pair']))\n",
    "        add=np.hstack((additive_auc,additive_score,['Add']))\n",
    "        df_score=np.vstack((a,b,add,p))\n",
    "        \n",
    "        if it==0:\n",
    "            df_all_roc=df_roc\n",
    "            df_all_score=df_score\n",
    "        else:\n",
    "            df_all_roc=np.vstack((df_all_roc,df_roc))\n",
    "            df_all_score=np.vstack((df_all_score,df_score))\n",
    "        it+=1\n",
    "df_all_score=pd.DataFrame(df_all_score,columns=['AUC','Accuracy','Type'])\n",
    "df_all_roc=pd.DataFrame(df_all_roc,columns=['FPR','TPR','Type'])"
   ]
  },
  {
   "cell_type": "code",
   "execution_count": 22,
   "metadata": {},
   "outputs": [
    {
     "data": {
      "image/png": "[encoded data removed]",
      "text/plain": [
       "<Figure size 432x288 with 1 Axes>"
      ]
     },
     "metadata": {
      "needs_background": "light"
     },
     "output_type": "display_data"
    }
   ],
   "source": [
    "ax=sns.lineplot(df_all_roc.FPR.astype(float),df_all_roc.TPR.astype(float),hue=df_all_roc.Type,ci='sd',lw=.5,palette=['Dodgerblue','Salmon','Mediumblue','Firebrick'])\n",
    "plt.plot([0,1],[0,1],'--k')\n",
    "plt.xlim([-.01,1.01])\n",
    "plt.ylim([-.01,1.01])\n",
    "plt.xlabel('')\n",
    "plt.ylabel('')\n",
    "leg=ax.legend(frameon=False,fontsize=10)\n",
    "for line in leg.get_lines():\n",
    "    line.set_linewidth(6.0)\n",
    "plt.xticks(fontsize=15)\n",
    "plt.yticks(fontsize=15)\n",
    "plt.tight_layout()\n",
    "plt.show()\n",
    "plt.close()"
   ]
  },
  {
   "cell_type": "code",
   "execution_count": 23,
   "metadata": {},
   "outputs": [
    {
     "data": {
      "image/png": "[encoded data removed]",
      "text/plain": [
       "<Figure size 432x288 with 1 Axes>"
      ]
     },
     "metadata": {
      "needs_background": "light"
     },
     "output_type": "display_data"
    }
   ],
   "source": [
    "sns.boxplot(df_all_score.Type,df_all_score.Accuracy.astype(float),palette=['Dodgerblue','Salmon','Mediumblue','Firebrick'],boxprops=dict(alpha=1))\n",
    "plt.ylim([.54,.63])\n",
    "plt.xlabel('')\n",
    "plt.ylabel('')\n",
    "plt.legend('',frameon=False)\n",
    "plt.xticks(np.arange(0,4),[r'$\\alpha$',r'$\\beta$',r'$\\alpha + \\beta$',r'$\\alpha\\beta$'],fontsize=20)\n",
    "plt.yticks(np.arange(.55,.65,.02),fontsize=15)\n",
    "plt.tight_layout()\n",
    "plt.show()\n",
    "plt.close()"
   ]
  },
  {
   "cell_type": "code",
   "execution_count": 24,
   "metadata": {},
   "outputs": [
    {
     "data": {
      "text/plain": [
       "(0.56, 0.68)"
      ]
     },
     "execution_count": 24,
     "metadata": {},
     "output_type": "execute_result"
    },
    {
     "data": {
      "image/png": "[encoded data removed]",
      "text/plain": [
       "<Figure size 432x288 with 1 Axes>"
      ]
     },
     "metadata": {
      "needs_background": "light"
     },
     "output_type": "display_data"
    }
   ],
   "source": [
    "sns.boxplot(df_all_score.Type,df_all_score.AUC.astype(float),palette=['Dodgerblue','Salmon','Mediumblue','Firebrick'],boxprops=dict(alpha=.75))\n",
    "plt.ylim([.56,.68])"
   ]
  },
  {
   "cell_type": "code",
   "execution_count": 25,
   "metadata": {},
   "outputs": [
    {
     "name": "stdout",
     "output_type": "stream",
     "text": [
      "Alpha Beta 1.9985098005152007e-09\n",
      "Alpha Add 3.508415433943238e-18\n",
      "Alpha Pair 3.521896820722099e-18\n",
      "Beta Add 3.838749061511085e-18\n",
      "Beta Pair 3.521896820722099e-18\n",
      "Add Pair 9.696526924135566e-18\n"
     ]
    }
   ],
   "source": [
    "for i,x in enumerate(['Alpha','Beta','Add','Pair']):\n",
    "    for j,y in enumerate(['Alpha','Beta','Add','Pair']):\n",
    "        if i<j:\n",
    "            p=stats.mannwhitneyu(df_all_score[df_all_score.Type==x].Accuracy.astype(float),df_all_score[df_all_score.Type==y].Accuracy.astype(float))[1]\n",
    "            print(x,y,p)"
   ]
  },
  {
   "cell_type": "code",
   "execution_count": null,
   "metadata": {},
   "outputs": [],
   "source": []
  }
 ],
 "metadata": {
  "kernelspec": {
   "display_name": "Python 3",
   "language": "python",
   "name": "python3"
  },
  "language_info": {
   "codemirror_mode": {
    "name": "ipython",
    "version": 3
   },
   "file_extension": ".py",
   "mimetype": "text/x-python",
   "name": "python",
   "nbconvert_exporter": "python",
   "pygments_lexer": "ipython3",
   "version": "3.6.8"
  }
 },
 "nbformat": 4,
 "nbformat_minor": 2
}
